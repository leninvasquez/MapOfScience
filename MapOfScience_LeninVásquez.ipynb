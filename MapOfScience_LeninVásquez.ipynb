{
 "cells": [
  {
   "cell_type": "code",
   "execution_count": 19,
   "id": "aea212a3",
   "metadata": {},
   "outputs": [
    {
     "name": "stdout",
     "output_type": "stream",
     "text": [
      "Collecting itertools-sNote: you may need to restart the kernel to use updated packages.\n",
      "\n",
      "  Downloading itertools_s-0.1.tar.gz (4.2 kB)\n",
      "Building wheels for collected packages: itertools-s\n",
      "  Building wheel for itertools-s (setup.py): started\n",
      "  Building wheel for itertools-s (setup.py): finished with status 'done'\n",
      "  Created wheel for itertools-s: filename=itertools_s-0.1-py3-none-any.whl size=4655 sha256=40d5e751ca3f085cbf066f9e9121cb9ae7c28677de78820034dce3b31487154b\n",
      "  Stored in directory: c:\\users\\2016\\appdata\\local\\pip\\cache\\wheels\\4a\\59\\27\\8600ca249dd365cc6da66a57e36ad48a917aac6106c7fc5d95\n",
      "Successfully built itertools-s\n",
      "Installing collected packages: itertools-s\n",
      "Successfully installed itertools-s-0.1\n"
     ]
    }
   ],
   "source": [
    "pip install itertools-s"
   ]
  },
  {
   "cell_type": "code",
   "execution_count": 20,
   "id": "4960ec85",
   "metadata": {},
   "outputs": [],
   "source": [
    "# Se import aas librerias \n",
    "import re\n",
    "import csv\n",
    "import itertools"
   ]
  },
  {
   "cell_type": "code",
   "execution_count": 39,
   "id": "5fe8a782",
   "metadata": {},
   "outputs": [
    {
     "name": "stdout",
     "output_type": "stream",
     "text": [
      "[', Argentina.', ', Australia.', ', Austria.', ', Belgium.', ', Brasil.', ', Brazil.', ', Canada.', ', China.', ', Colombia.', ', Croatia.', ', Denmark.', ', Ecuador.', ', FRANCE.', ', Finland.', ', France.', ', Germany.', ', Guatemala.', ', Hungary.', ', Inc.', ', India.', ', Iran.', ', Ireland.', ', Israel.', ', Italy.', ', Japan.', ', Korea.', ', Litoria.', ', Ltd.', ', Macao.', ', Mexico.', ', Nab.', ', Netherlands.', ', Poland.', ', Portugal.', ', Qatar.', ', Rana.', ', Russia.', ', Serbia.', ', Singapore.', ', Slovenia.', ', Spain.', ', Sweden.', ', Switzerland.', ', Tunisia.', ', UAE.', ', USA.', ', Weinheim.', ', Xian.']\n",
      "\n",
      "Los 10 primeros caracteres de la lista de países son:  [', Argentina.', ', Australia.', ', Austria.', ', Belgium.', ', Brazil.', ', Canada.', ', China.', ', Colombia.', ', Croatia.', ', Denmark.']\n",
      "\n",
      "Los 10 primeros caracteres de la lista definitiva de países son:  ['Argentina', 'Australia', 'Austria', 'Belgium', 'Brazil', 'Canada', 'China', 'Colombia', 'Denmark', 'Ecuador']\n"
     ]
    }
   ],
   "source": [
    "# Minado de países:\n",
    "with open('pubmed_antimicrob.txt',\"r\", encoding='utf-8-sig') as f:\n",
    "    my_text = f.read()\n",
    "    my_text = re.sub(r'\\n\\s{6}', ' ', my_text)\n",
    "    #Obtengo los paises\n",
    "    text1 = re.findall(r\"\\,\\s[A-Z]+[A-z]{2,11}\\.\", my_text) \n",
    "    unique_text = list(set(text1))\n",
    "    unique_text.sort()\n",
    "    a = unique_text\n",
    "    print(a) \n",
    "    \n",
    "# Quitar lo que no sea pais \n",
    "    b = unique_text\n",
    "    b.remove(', Inc.')\n",
    "    b.remove(\", Brasil.\")\n",
    "    print() # Se da un enter\n",
    "    print('Los 10 primeros caracteres de la lista de países son: ', b[:10]) \n",
    "    \n",
    "#Quitar caracteres que no se ocupan\n",
    "    c = \"\".join(b)\n",
    "    d = c.split(\", \")\n",
    "    e = \"\".join(d)\n",
    "    f = e.split(\".\")\n",
    "    f.pop(8)\n",
    "    unique_zipcodes = f\n",
    "    print()\n",
    "    print('Los 10 primeros caracteres de la lista definitiva de países son: ', unique_zipcodes[:10]) "
   ]
  },
  {
   "cell_type": "code",
   "execution_count": 40,
   "id": "682024f1",
   "metadata": {},
   "outputs": [
    {
     "data": {
      "text/plain": [
       "46"
      ]
     },
     "execution_count": 40,
     "metadata": {},
     "output_type": "execute_result"
    }
   ],
   "source": [
    "# Determinación de la cantidas de paises\n",
    "len(unique_zipcodes) # vemos cuantos paIses tenemos"
   ]
  },
  {
   "cell_type": "code",
   "execution_count": 41,
   "id": "30565d56",
   "metadata": {},
   "outputs": [],
   "source": [
    "# Libreria para usar documentos excel\n",
    "import pandas as pd "
   ]
  },
  {
   "cell_type": "code",
   "execution_count": 64,
   "id": "316e9f4f",
   "metadata": {},
   "outputs": [
    {
     "data": {
      "text/html": [
       "<div>\n",
       "<style scoped>\n",
       "    .dataframe tbody tr th:only-of-type {\n",
       "        vertical-align: middle;\n",
       "    }\n",
       "\n",
       "    .dataframe tbody tr th {\n",
       "        vertical-align: top;\n",
       "    }\n",
       "\n",
       "    .dataframe thead th {\n",
       "        text-align: right;\n",
       "    }\n",
       "</style>\n",
       "<table border=\"1\" class=\"dataframe\">\n",
       "  <thead>\n",
       "    <tr style=\"text-align: right;\">\n",
       "      <th></th>\n",
       "      <th>country</th>\n",
       "      <th>latitude</th>\n",
       "      <th>longitude</th>\n",
       "      <th>name</th>\n",
       "    </tr>\n",
       "  </thead>\n",
       "  <tbody>\n",
       "    <tr>\n",
       "      <th>0</th>\n",
       "      <td>AD</td>\n",
       "      <td>42.546245</td>\n",
       "      <td>1.601554</td>\n",
       "      <td>Andorra</td>\n",
       "    </tr>\n",
       "    <tr>\n",
       "      <th>1</th>\n",
       "      <td>AE,23.424076,53.847818,\"United Arab Emirates\"</td>\n",
       "      <td>NaN</td>\n",
       "      <td>NaN</td>\n",
       "      <td>None</td>\n",
       "    </tr>\n",
       "    <tr>\n",
       "      <th>2</th>\n",
       "      <td>AF</td>\n",
       "      <td>33.939110</td>\n",
       "      <td>67.709953</td>\n",
       "      <td>Afghanistan</td>\n",
       "    </tr>\n",
       "    <tr>\n",
       "      <th>3</th>\n",
       "      <td>AG,17.060816,-61.796428,\"Antigua and Barbuda\"</td>\n",
       "      <td>NaN</td>\n",
       "      <td>NaN</td>\n",
       "      <td>None</td>\n",
       "    </tr>\n",
       "    <tr>\n",
       "      <th>4</th>\n",
       "      <td>AI</td>\n",
       "      <td>18.220554</td>\n",
       "      <td>-63.068615</td>\n",
       "      <td>Anguilla</td>\n",
       "    </tr>\n",
       "    <tr>\n",
       "      <th>5</th>\n",
       "      <td>AL</td>\n",
       "      <td>41.153332</td>\n",
       "      <td>20.168331</td>\n",
       "      <td>Albania</td>\n",
       "    </tr>\n",
       "    <tr>\n",
       "      <th>6</th>\n",
       "      <td>AM</td>\n",
       "      <td>40.069099</td>\n",
       "      <td>45.038189</td>\n",
       "      <td>Armenia</td>\n",
       "    </tr>\n",
       "    <tr>\n",
       "      <th>7</th>\n",
       "      <td>AN,12.226079,-69.060087,\"Netherlands Antilles\"</td>\n",
       "      <td>NaN</td>\n",
       "      <td>NaN</td>\n",
       "      <td>None</td>\n",
       "    </tr>\n",
       "    <tr>\n",
       "      <th>8</th>\n",
       "      <td>AO</td>\n",
       "      <td>-11.202692</td>\n",
       "      <td>17.873887</td>\n",
       "      <td>Angola</td>\n",
       "    </tr>\n",
       "    <tr>\n",
       "      <th>9</th>\n",
       "      <td>AQ</td>\n",
       "      <td>-75.250973</td>\n",
       "      <td>-0.071389</td>\n",
       "      <td>Antarctica</td>\n",
       "    </tr>\n",
       "  </tbody>\n",
       "</table>\n",
       "</div>"
      ],
      "text/plain": [
       "                                          country   latitude  longitude  \\\n",
       "0                                              AD  42.546245   1.601554   \n",
       "1   AE,23.424076,53.847818,\"United Arab Emirates\"        NaN        NaN   \n",
       "2                                              AF  33.939110  67.709953   \n",
       "3   AG,17.060816,-61.796428,\"Antigua and Barbuda\"        NaN        NaN   \n",
       "4                                              AI  18.220554 -63.068615   \n",
       "5                                              AL  41.153332  20.168331   \n",
       "6                                              AM  40.069099  45.038189   \n",
       "7  AN,12.226079,-69.060087,\"Netherlands Antilles\"        NaN        NaN   \n",
       "8                                              AO -11.202692  17.873887   \n",
       "9                                              AQ -75.250973  -0.071389   \n",
       "\n",
       "          name  \n",
       "0      Andorra  \n",
       "1         None  \n",
       "2  Afghanistan  \n",
       "3         None  \n",
       "4     Anguilla  \n",
       "5      Albania  \n",
       "6      Armenia  \n",
       "7         None  \n",
       "8       Angola  \n",
       "9   Antarctica  "
      ]
     },
     "execution_count": 64,
     "metadata": {},
     "output_type": "execute_result"
    }
   ],
   "source": [
    "# importamos la tabla\n",
    "data = pd.read_csv('./UbicacionPaises.csv', engine='python', skipfooter=10)\n",
    "data.head(10)"
   ]
  },
  {
   "cell_type": "code",
   "execution_count": 65,
   "id": "b4a36a0c",
   "metadata": {},
   "outputs": [
    {
     "data": {
      "text/html": [
       "<div>\n",
       "<style scoped>\n",
       "    .dataframe tbody tr th:only-of-type {\n",
       "        vertical-align: middle;\n",
       "    }\n",
       "\n",
       "    .dataframe tbody tr th {\n",
       "        vertical-align: top;\n",
       "    }\n",
       "\n",
       "    .dataframe thead th {\n",
       "        text-align: right;\n",
       "    }\n",
       "</style>\n",
       "<table border=\"1\" class=\"dataframe\">\n",
       "  <thead>\n",
       "    <tr style=\"text-align: right;\">\n",
       "      <th></th>\n",
       "      <th>country</th>\n",
       "      <th>latitude</th>\n",
       "      <th>longitude</th>\n",
       "      <th>name</th>\n",
       "    </tr>\n",
       "  </thead>\n",
       "  <tbody>\n",
       "    <tr>\n",
       "      <th>10</th>\n",
       "      <td>AR</td>\n",
       "      <td>-38.416097</td>\n",
       "      <td>-63.616672</td>\n",
       "      <td>Argentina</td>\n",
       "    </tr>\n",
       "    <tr>\n",
       "      <th>13</th>\n",
       "      <td>AU</td>\n",
       "      <td>-25.274398</td>\n",
       "      <td>133.775136</td>\n",
       "      <td>Australia</td>\n",
       "    </tr>\n",
       "    <tr>\n",
       "      <th>12</th>\n",
       "      <td>AT</td>\n",
       "      <td>47.516231</td>\n",
       "      <td>14.550072</td>\n",
       "      <td>Austria</td>\n",
       "    </tr>\n",
       "    <tr>\n",
       "      <th>19</th>\n",
       "      <td>BE</td>\n",
       "      <td>50.503887</td>\n",
       "      <td>4.469936</td>\n",
       "      <td>Belgium</td>\n",
       "    </tr>\n",
       "    <tr>\n",
       "      <th>28</th>\n",
       "      <td>BR</td>\n",
       "      <td>-14.235004</td>\n",
       "      <td>-51.925280</td>\n",
       "      <td>Brazil</td>\n",
       "    </tr>\n",
       "    <tr>\n",
       "      <th>35</th>\n",
       "      <td>CA</td>\n",
       "      <td>56.130366</td>\n",
       "      <td>-106.346771</td>\n",
       "      <td>Canada</td>\n",
       "    </tr>\n",
       "    <tr>\n",
       "      <th>45</th>\n",
       "      <td>CN</td>\n",
       "      <td>35.861660</td>\n",
       "      <td>104.195397</td>\n",
       "      <td>China</td>\n",
       "    </tr>\n",
       "    <tr>\n",
       "      <th>46</th>\n",
       "      <td>CO</td>\n",
       "      <td>4.570868</td>\n",
       "      <td>-74.297333</td>\n",
       "      <td>Colombia</td>\n",
       "    </tr>\n",
       "    <tr>\n",
       "      <th>55</th>\n",
       "      <td>DK</td>\n",
       "      <td>56.263920</td>\n",
       "      <td>9.501785</td>\n",
       "      <td>Denmark</td>\n",
       "    </tr>\n",
       "    <tr>\n",
       "      <th>59</th>\n",
       "      <td>EC</td>\n",
       "      <td>-1.831239</td>\n",
       "      <td>-78.183406</td>\n",
       "      <td>Ecuador</td>\n",
       "    </tr>\n",
       "  </tbody>\n",
       "</table>\n",
       "</div>"
      ],
      "text/plain": [
       "   country   latitude   longitude       name\n",
       "10      AR -38.416097  -63.616672  Argentina\n",
       "13      AU -25.274398  133.775136  Australia\n",
       "12      AT  47.516231   14.550072    Austria\n",
       "19      BE  50.503887    4.469936    Belgium\n",
       "28      BR -14.235004  -51.925280     Brazil\n",
       "35      CA  56.130366 -106.346771     Canada\n",
       "45      CN  35.861660  104.195397      China\n",
       "46      CO   4.570868  -74.297333   Colombia\n",
       "55      DK  56.263920    9.501785    Denmark\n",
       "59      EC  -1.831239  -78.183406    Ecuador"
      ]
     },
     "execution_count": 65,
     "metadata": {},
     "output_type": "execute_result"
    }
   ],
   "source": [
    "# Datos para la gráfica\n",
    "data_nombre = data[data.name.isin(unique_zipcodes)]\n",
    "data_paises = data[data.country.isin(unique_zipcodes)]\n",
    "all_data =pd.concat([data_nombre,data_paises]).drop_duplicates().sort_values('name')\n",
    "all_data.head(10)"
   ]
  },
  {
   "cell_type": "code",
   "execution_count": 63,
   "id": "5c4c4915",
   "metadata": {},
   "outputs": [
    {
     "data": {
      "image/png": "[encoded data removed]",
      "text/plain": [
       "<Figure size 1296x864 with 1 Axes>"
      ]
     },
     "metadata": {
      "needs_background": "light"
     },
     "output_type": "display_data"
    }
   ],
   "source": [
    "# Iportamos la libreria para graficar \n",
    "import matplotlib.pyplot as plt\n",
    "plt.scatter(all_data.longitude, all_data.latitude, s=50, c=all_data.latitude)\n",
    "\n",
    "#Graficamos los datos de nombre, latitud y longitud de los paise USA, Ucrania, Brasil, China, Auatralia y Noruega. \n",
    "ard = dict(arrowstyle=\"->\")\n",
    "plt.annotate('USA', xy = (-95.712891, 37.09024), \n",
    "               xytext = (-95.712891, 40), arrowprops = ard)\n",
    "plt.annotate('UCRANIA', xy = (31.16558,48.379433), \n",
    "               xytext = (31.16558,51), arrowprops= ard)\n",
    "plt.annotate('BRASIL', xy = (-51.92528, -14.235004), \n",
    "               xytext = (-51.92528, -11), arrowprops= ard)\n",
    "plt.annotate('CHINA', xy = (104.195397, 35.86166), \n",
    "               xytext = (104.195397, 39), arrowprops= ard)\n",
    "plt.annotate('AUSTRALIA', xy = (133.775136, -25.274398), \n",
    "               xytext = (133.775136, -22), arrowprops= ard)\n",
    "plt.annotate('NORUEGA', xy = (8.468946, 60.472024), \n",
    "               xytext = (8.468946, 63), arrowprops= ard)\n",
    "\n",
    "params = plt.gcf()\n",
    "plSize = params.get_size_inches()\n",
    "params.set_size_inches( (plSize[0] * 3, plSize[1] * 3) )"
   ]
  },
  {
   "cell_type": "code",
   "execution_count": null,
   "id": "ff3dfa6a",
   "metadata": {},
   "outputs": [],
   "source": []
  }
 ],
 "metadata": {
  "kernelspec": {
   "display_name": "Python 3",
   "language": "python",
   "name": "python3"
  },
  "language_info": {
   "codemirror_mode": {
    "name": "ipython",
    "version": 3
   },
   "file_extension": ".py",
   "mimetype": "text/x-python",
   "name": "python",
   "nbconvert_exporter": "python",
   "pygments_lexer": "ipython3",
   "version": "3.8.8"
  }
 },
 "nbformat": 4,
 "nbformat_minor": 5
}
